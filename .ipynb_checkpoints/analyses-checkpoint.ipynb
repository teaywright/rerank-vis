{
 "cells": [
  {
   "cell_type": "code",
   "execution_count": 9,
   "id": "a90e465d-da55-4b7d-996f-147e76a6e87d",
   "metadata": {},
   "outputs": [
    {
     "name": "stdout",
     "output_type": "stream",
     "text": [
      "\n",
      "Metric: final_dist_to_center\n",
      "  Gold in top 1: 27\n",
      "  Gold in top 3: 56\n"
     ]
    }
   ],
   "source": [
    "import json\n",
    "import math\n",
    "\n",
    "def euclidean(p1, p2):\n",
    "    return math.hypot(p1[0] - p2[0], p1[1] - p2[1])\n",
    "\n",
    "def final_point(seq):\n",
    "    for pt in reversed(seq):\n",
    "        if pt is not None:\n",
    "            return pt\n",
    "    return None\n",
    "\n",
    "# Load data\n",
    "with open(\"output/gaze_scoring_results_new.json\") as f:\n",
    "    data = json.load(f)\n",
    "\n",
    "metric = \"final_dist_to_center\"\n",
    "results = {\"top1\": 0, \"top3\": 0}\n",
    "\n",
    "for entry in data:\n",
    "    # UNNORMALIZED: assume bbox = [x, y, width, height]\n",
    "    x0, y0, w, h = entry[\"bbox\"]\n",
    "    cx = x0 + w / 2\n",
    "    cy = y0 + h / 2\n",
    "    center = (cx, cy)\n",
    "\n",
    "    candidates = entry[\"candidates\"]\n",
    "    sequences = entry[\"gaze_sequences\"]\n",
    "\n",
    "    scores = []\n",
    "    for cand, seq in zip(candidates, sequences):\n",
    "        final = final_point(seq)\n",
    "        dist = euclidean(final, center) if final else float(\"inf\")\n",
    "        scores.append((dist, cand[\"text\"], cand[\"type\"]))\n",
    "\n",
    "    ranked = sorted(scores)\n",
    "    top1 = ranked[0]\n",
    "    top3 = ranked[:3]\n",
    "\n",
    "    if top1[2] == \"gold\":\n",
    "        results[\"top1\"] += 1\n",
    "    if any(c[2] == \"gold\" for c in top3):\n",
    "        results[\"top3\"] += 1\n",
    "\n",
    "# Output\n",
    "print(f\"\\nMetric: {metric}\")\n",
    "print(f\"  Gold in top 1: {results['top1']}\")\n",
    "print(f\"  Gold in top 3: {results['top3']}\")\n"
   ]
  },
  {
   "cell_type": "code",
   "execution_count": null,
   "id": "2b333e3e-7e09-40af-a632-751533a9dd20",
   "metadata": {},
   "outputs": [],
   "source": []
  }
 ],
 "metadata": {
  "kernelspec": {
   "display_name": "Python 3 (ipykernel)",
   "language": "python",
   "name": "python3"
  },
  "language_info": {
   "codemirror_mode": {
    "name": "ipython",
    "version": 3
   },
   "file_extension": ".py",
   "mimetype": "text/x-python",
   "name": "python",
   "nbconvert_exporter": "python",
   "pygments_lexer": "ipython3",
   "version": "3.12.7"
  }
 },
 "nbformat": 4,
 "nbformat_minor": 5
}

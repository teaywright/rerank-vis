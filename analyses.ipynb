{
 "cells": [
  {
   "cell_type": "code",
   "execution_count": 26,
   "id": "2b333e3e-7e09-40af-a632-751533a9dd20",
   "metadata": {},
   "outputs": [],
   "source": [
    "import json\n",
    "import math\n",
    "\n",
    "# Load JSON data\n",
    "with open(\"output/gaze_scoring_results_new.json\") as f:\n",
    "    data = json.load(f)\n",
    "\n",
    "# Basic utilities\n",
    "def euclidean(p1, p2):\n",
    "    return math.hypot(p1[0] - p2[0], p1[1] - p2[1])\n",
    "\n",
    "def final_point(seq):\n",
    "    for pt in reversed(seq):\n",
    "        if pt is not None:\n",
    "            return pt\n",
    "    return None\n",
    "\n",
    "def denormalize_point(point, input_size=(100, 100), target_size=(512, 320)):\n",
    "    x, y = point\n",
    "    sx, sy = input_size\n",
    "    tx, ty = target_size\n",
    "    return [x / sx * tx, y / sy * ty]\n",
    "\n",
    "def in_bbox(pt, bbox):\n",
    "    x, y = pt\n",
    "    x0, y0, w, h = bbox\n",
    "    return x0 <= x <= x0 + w and y0 <= y <= y0 + h\n",
    "\n",
    "# Shared metadata\n",
    "TARGET_SIZE = (512, 320)\n"
   ]
  },
  {
   "cell_type": "code",
   "execution_count": 27,
   "id": "ca86885f-5ac2-4cc2-914f-b27ac02d50ea",
   "metadata": {},
   "outputs": [
    {
     "name": "stdout",
     "output_type": "stream",
     "text": [
      "final_dist_to_center {'top1': 32, 'top3': 69}\n"
     ]
    }
   ],
   "source": [
    "metric = \"final_dist_to_center\"\n",
    "results = {\"top1\": 0, \"top3\": 0}\n",
    "\n",
    "for entry in data:\n",
    "    x0, y0, w, h = entry[\"bbox\"]\n",
    "    center = (x0 + w / 2, y0 + h / 2)\n",
    "    scores = []\n",
    "\n",
    "    for cand, seq in zip(entry[\"candidates\"], entry[\"gaze_sequences\"]):\n",
    "        pt = final_point(seq)\n",
    "        if pt is not None:\n",
    "            pt = denormalize_point(pt, target_size=TARGET_SIZE)\n",
    "            dist = euclidean(pt, center)\n",
    "        else:\n",
    "            dist = float(\"inf\")\n",
    "        scores.append((dist, cand[\"type\"]))\n",
    "\n",
    "    ranked = sorted(scores)\n",
    "    if ranked[0][1] == \"gold\": results[\"top1\"] += 1\n",
    "    if any(r[1] == \"gold\" for r in ranked[:3]): results[\"top3\"] += 1\n",
    "\n",
    "print(metric, results)\n"
   ]
  },
  {
   "cell_type": "code",
   "execution_count": 28,
   "id": "8760611c-bb42-4d96-98e2-42f431126642",
   "metadata": {},
   "outputs": [
    {
     "name": "stdout",
     "output_type": "stream",
     "text": [
      "avg_dist_to_center {'top1': 36, 'top3': 64}\n"
     ]
    }
   ],
   "source": [
    "metric = \"avg_dist_to_center\"\n",
    "results = {\"top1\": 0, \"top3\": 0}\n",
    "\n",
    "for entry in data:\n",
    "    x0, y0, w, h = entry[\"bbox\"]\n",
    "    center = (x0 + w / 2, y0 + h / 2)\n",
    "    scores = []\n",
    "\n",
    "    for cand, seq in zip(entry[\"candidates\"], entry[\"gaze_sequences\"]):\n",
    "        pts = [denormalize_point(p, target_size=TARGET_SIZE) for p in seq if p]\n",
    "        if pts:\n",
    "            dist = sum(euclidean(p, center) for p in pts) / len(pts)\n",
    "        else:\n",
    "            dist = float(\"inf\")\n",
    "        scores.append((dist, cand[\"type\"]))\n",
    "\n",
    "    ranked = sorted(scores)\n",
    "    if ranked[0][1] == \"gold\": results[\"top1\"] += 1\n",
    "    if any(r[1] == \"gold\" for r in ranked[:3]): results[\"top3\"] += 1\n",
    "\n",
    "print(metric, results)\n"
   ]
  },
  {
   "cell_type": "code",
   "execution_count": 29,
   "id": "d4243c2d-9b5f-4218-9f20-1bd7540226d1",
   "metadata": {},
   "outputs": [
    {
     "name": "stdout",
     "output_type": "stream",
     "text": [
      "min_dist_to_center {'top1': 27, 'top3': 52}\n"
     ]
    }
   ],
   "source": [
    "metric = \"min_dist_to_center\"\n",
    "results = {\"top1\": 0, \"top3\": 0}\n",
    "\n",
    "for entry in data:\n",
    "    x0, y0, w, h = entry[\"bbox\"]\n",
    "    center = (x0 + w / 2, y0 + h / 2)\n",
    "    scores = []\n",
    "\n",
    "    for cand, seq in zip(entry[\"candidates\"], entry[\"gaze_sequences\"]):\n",
    "        pts = [denormalize_point(p, target_size=TARGET_SIZE) for p in seq if p]\n",
    "        if pts:\n",
    "            dist = min(euclidean(p, center) for p in pts)\n",
    "        else:\n",
    "            dist = float(\"inf\")\n",
    "        scores.append((dist, cand[\"type\"]))\n",
    "\n",
    "    ranked = sorted(scores)\n",
    "    if ranked[0][1] == \"gold\": results[\"top1\"] += 1\n",
    "    if any(r[1] == \"gold\" for r in ranked[:3]): results[\"top3\"] += 1\n",
    "\n",
    "print(metric, results)\n"
   ]
  },
  {
   "cell_type": "code",
   "execution_count": 30,
   "id": "e8d63fb3-60f5-43a9-abe7-654c639e368c",
   "metadata": {},
   "outputs": [
    {
     "name": "stdout",
     "output_type": "stream",
     "text": [
      "path_length {'top1': 17, 'top3': 34}\n"
     ]
    }
   ],
   "source": [
    "metric = \"path_length\"\n",
    "results = {\"top1\": 0, \"top3\": 0}\n",
    "\n",
    "for entry in data:\n",
    "    scores = []\n",
    "\n",
    "    for cand, seq in zip(entry[\"candidates\"], entry[\"gaze_sequences\"]):\n",
    "        pts = [denormalize_point(p, target_size=TARGET_SIZE) for p in seq if p]\n",
    "        if len(pts) > 1:\n",
    "            dist = sum(euclidean(pts[i], pts[i+1]) for i in range(len(pts) - 1))\n",
    "        else:\n",
    "            dist = float(\"inf\")\n",
    "        scores.append((dist, cand[\"type\"]))\n",
    "\n",
    "    ranked = sorted(scores)\n",
    "    if ranked[0][1] == \"gold\": results[\"top1\"] += 1\n",
    "    if any(r[1] == \"gold\" for r in ranked[:3]): results[\"top3\"] += 1\n",
    "\n",
    "print(metric, results)\n"
   ]
  },
  {
   "cell_type": "code",
   "execution_count": 31,
   "id": "4d4a7bd1-5cc8-4920-bb4e-f6990afe2be8",
   "metadata": {},
   "outputs": [
    {
     "name": "stdout",
     "output_type": "stream",
     "text": [
      "pct_in_bbox {'top1': 17, 'top3': 42}\n"
     ]
    }
   ],
   "source": [
    "metric = \"pct_in_bbox\"\n",
    "results = {\"top1\": 0, \"top3\": 0}\n",
    "\n",
    "for entry in data:\n",
    "    bbox = entry[\"bbox\"]\n",
    "    scores = []\n",
    "\n",
    "    for cand, seq in zip(entry[\"candidates\"], entry[\"gaze_sequences\"]):\n",
    "        pts = [denormalize_point(p, target_size=TARGET_SIZE) for p in seq if p]\n",
    "        if pts:\n",
    "            pct = sum(in_bbox(p, bbox) for p in pts) / len(pts)\n",
    "            score = -pct  # invert to make lower better\n",
    "        else:\n",
    "            score = float(\"inf\")\n",
    "        scores.append((score, cand[\"type\"]))\n",
    "\n",
    "    ranked = sorted(scores)\n",
    "    if ranked[0][1] == \"gold\": results[\"top1\"] += 1\n",
    "    if any(r[1] == \"gold\" for r in ranked[:3]): results[\"top3\"] += 1\n",
    "\n",
    "print(metric, results)\n"
   ]
  },
  {
   "cell_type": "code",
   "execution_count": 32,
   "id": "5f4f5770-90a9-45b9-844e-73ed2972066d",
   "metadata": {},
   "outputs": [
    {
     "name": "stdout",
     "output_type": "stream",
     "text": [
      "norm_path_length {'top1': 16, 'top3': 50}\n"
     ]
    }
   ],
   "source": [
    "metric = \"norm_path_length\"\n",
    "results = {\"top1\": 0, \"top3\": 0}\n",
    "\n",
    "for entry in data:\n",
    "    scores = []\n",
    "\n",
    "    for cand, seq in zip(entry[\"candidates\"], entry[\"gaze_sequences\"]):\n",
    "        pts = [denormalize_point(p, target_size=TARGET_SIZE) for p in seq if p]\n",
    "        if len(pts) >= 2:\n",
    "            total = sum(euclidean(pts[i], pts[i+1]) for i in range(len(pts) - 1))\n",
    "            net = euclidean(pts[0], pts[-1])\n",
    "            score = total / net if net > 0 else float(\"inf\")\n",
    "        else:\n",
    "            score = float(\"inf\")\n",
    "        scores.append((score, cand[\"type\"]))\n",
    "\n",
    "    ranked = sorted(scores)\n",
    "    if ranked[0][1] == \"gold\": results[\"top1\"] += 1\n",
    "    if any(r[1] == \"gold\" for r in ranked[:3]): results[\"top3\"] += 1\n",
    "\n",
    "print(metric, results)\n"
   ]
  },
  {
   "cell_type": "code",
   "execution_count": 33,
   "id": "a9e6860d-3b5a-4f55-bea7-75b0853f0979",
   "metadata": {},
   "outputs": [
    {
     "name": "stdout",
     "output_type": "stream",
     "text": [
      "weighted_composite {'top1': 37, 'top3': 68}\n"
     ]
    }
   ],
   "source": [
    "# Weights can be tuned later\n",
    "weights = {\n",
    "    \"final_dist\": 0.4,\n",
    "    \"avg_dist\": 0.4,\n",
    "    \"pct_in_bbox\": 0.2\n",
    "}\n",
    "\n",
    "metric = \"weighted_composite\"\n",
    "results = {\"top1\": 0, \"top3\": 0}\n",
    "\n",
    "for entry in data:\n",
    "    x0, y0, w, h = entry[\"bbox\"]\n",
    "    center = (x0 + w / 2, y0 + h / 2)\n",
    "    scores = []\n",
    "\n",
    "    for cand, seq in zip(entry[\"candidates\"], entry[\"gaze_sequences\"]):\n",
    "        pts = [denormalize_point(p, target_size=TARGET_SIZE) for p in seq if p]\n",
    "\n",
    "        if not pts:\n",
    "            final_d = avg_d = float(\"inf\")\n",
    "            pct_in = 0\n",
    "        else:\n",
    "            final_d = euclidean(pts[-1], center)\n",
    "            avg_d = sum(euclidean(p, center) for p in pts) / len(pts)\n",
    "            pct_in = sum(in_bbox(p, entry[\"bbox\"]) for p in pts) / len(pts)\n",
    "\n",
    "        score = (\n",
    "            weights[\"final_dist\"] * final_d +\n",
    "            weights[\"avg_dist\"] * avg_d -\n",
    "            weights[\"pct_in_bbox\"] * pct_in  # subtract: higher pct is better\n",
    "        )\n",
    "        scores.append((score, cand[\"type\"]))\n",
    "\n",
    "    ranked = sorted(scores)\n",
    "    if ranked[0][1] == \"gold\": results[\"top1\"] += 1\n",
    "    if any(r[1] == \"gold\" for r in ranked[:3]): results[\"top3\"] += 1\n",
    "\n",
    "print(metric, results)\n"
   ]
  },
  {
   "cell_type": "code",
   "execution_count": null,
   "id": "15c4edf9-751c-48fe-afac-8979fea55284",
   "metadata": {},
   "outputs": [],
   "source": []
  },
  {
   "cell_type": "code",
   "execution_count": null,
   "id": "1f90ad0d-a232-43f9-9c07-138dc7345c14",
   "metadata": {},
   "outputs": [],
   "source": []
  }
 ],
 "metadata": {
  "kernelspec": {
   "display_name": "Python 3 (ipykernel)",
   "language": "python",
   "name": "python3"
  },
  "language_info": {
   "codemirror_mode": {
    "name": "ipython",
    "version": 3
   },
   "file_extension": ".py",
   "mimetype": "text/x-python",
   "name": "python",
   "nbconvert_exporter": "python",
   "pygments_lexer": "ipython3",
   "version": "3.12.7"
  }
 },
 "nbformat": 4,
 "nbformat_minor": 5
}
